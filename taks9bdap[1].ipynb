{
  "nbformat": 4,
  "nbformat_minor": 0,
  "metadata": {
    "colab": {
      "provenance": []
    },
    "kernelspec": {
      "name": "python3",
      "display_name": "Python 3"
    },
    "language_info": {
      "name": "python"
    }
  },
  "cells": [
    {
      "cell_type": "code",
      "execution_count": 1,
      "metadata": {
        "id": "QxF4ZwSSXU3a"
      },
      "outputs": [],
      "source": [
        "from pyspark.sql import SparkSession\n",
        "from pyspark import SparkContext"
      ]
    },
    {
      "cell_type": "code",
      "source": [
        "spark = SparkSession.builder.appName('task9').getOrCreate()"
      ],
      "metadata": {
        "id": "gOtso_FpXzOh"
      },
      "execution_count": 2,
      "outputs": []
    },
    {
      "cell_type": "code",
      "source": [
        "# Load the dataset\n",
        "sc = SparkContext.getOrCreate()\n",
        "employee_rdd = sc.textFile('employees.csv')\n",
        "employee_rdd = employee_rdd.map(lambda x: x.split(\",\"))\n",
        "employee_rdd.take(5)"
      ],
      "metadata": {
        "colab": {
          "base_uri": "https://localhost:8080/"
        },
        "id": "3ky2Dx46YSMR",
        "outputId": "fc474e7d-11ba-4cac-f212-8dc2875b2c46"
      },
      "execution_count": 18,
      "outputs": [
        {
          "output_type": "execute_result",
          "data": {
            "text/plain": [
              "[['EMPLOYEE_ID',\n",
              "  'FIRST_NAME',\n",
              "  'LAST_NAME',\n",
              "  'EMAIL',\n",
              "  'PHONE_NUMBER',\n",
              "  'HIRE_DATE',\n",
              "  'JOB_ID',\n",
              "  'SALARY',\n",
              "  'COMMISSION_PCT',\n",
              "  'MANAGER_ID',\n",
              "  'DEPARTMENT_ID'],\n",
              " ['198',\n",
              "  'Donald',\n",
              "  'OConnell',\n",
              "  'DOCONNEL',\n",
              "  '650.507.9833',\n",
              "  '21-JUN-07',\n",
              "  'SH_CLERK',\n",
              "  '2600',\n",
              "  ' - ',\n",
              "  '124',\n",
              "  '50'],\n",
              " ['199',\n",
              "  'Douglas',\n",
              "  'Grant',\n",
              "  'DGRANT',\n",
              "  '650.507.9844',\n",
              "  '13-JAN-08',\n",
              "  'SH_CLERK',\n",
              "  '2600',\n",
              "  ' - ',\n",
              "  '124',\n",
              "  '50'],\n",
              " ['200',\n",
              "  'Jennifer',\n",
              "  'Whalen',\n",
              "  'JWHALEN',\n",
              "  '515.123.4444',\n",
              "  '17-SEP-03',\n",
              "  'AD_ASST',\n",
              "  '4400',\n",
              "  ' - ',\n",
              "  '101',\n",
              "  '10'],\n",
              " ['201',\n",
              "  'Michael',\n",
              "  'Hartstein',\n",
              "  'MHARTSTE',\n",
              "  '515.123.5555',\n",
              "  '17-FEB-04',\n",
              "  'MK_MAN',\n",
              "  '13000',\n",
              "  ' - ',\n",
              "  '100',\n",
              "  '20']]"
            ]
          },
          "metadata": {},
          "execution_count": 18
        }
      ]
    },
    {
      "cell_type": "code",
      "source": [
        "# Count the number of records\n",
        "employee_rdd.count()-1"
      ],
      "metadata": {
        "colab": {
          "base_uri": "https://localhost:8080/"
        },
        "id": "EpQj7VdXYnbn",
        "outputId": "a8379d1f-b501-4559-d889-cf62189537e6"
      },
      "execution_count": 19,
      "outputs": [
        {
          "output_type": "execute_result",
          "data": {
            "text/plain": [
              "50"
            ]
          },
          "metadata": {},
          "execution_count": 19
        }
      ]
    },
    {
      "cell_type": "code",
      "source": [
        "# filter the employess on joined date\n",
        "from datetime import datetime\n",
        "header = employee_rdd.first()\n",
        "data_rdd = employee_rdd.filter(lambda x: x != header)\n",
        "filtered_rdd = data_rdd.filter(lambda x: datetime.strptime(x[5], \"%d-%b-%y\").year > 2005)\n",
        "filtered_rdd.count()"
      ],
      "metadata": {
        "colab": {
          "base_uri": "https://localhost:8080/"
        },
        "id": "Ej74nyTZY-vW",
        "outputId": "b516d818-57d0-4e65-f13b-ee41d0a0280f"
      },
      "execution_count": 21,
      "outputs": [
        {
          "output_type": "execute_result",
          "data": {
            "text/plain": [
              "20"
            ]
          },
          "metadata": {},
          "execution_count": 21
        }
      ]
    },
    {
      "cell_type": "code",
      "source": [
        "# Map employee name\n",
        "names_rdd = data_rdd.map(lambda x: x[1]+\" \"+x[2])\n",
        "names_rdd.take(5)"
      ],
      "metadata": {
        "colab": {
          "base_uri": "https://localhost:8080/"
        },
        "id": "s10V88YeZ71p",
        "outputId": "00ad3783-4ea8-4fbe-d16c-4ddda88b2574"
      },
      "execution_count": 23,
      "outputs": [
        {
          "output_type": "execute_result",
          "data": {
            "text/plain": [
              "['Donald OConnell',\n",
              " 'Douglas Grant',\n",
              " 'Jennifer Whalen',\n",
              " 'Michael Hartstein',\n",
              " 'Pat Fay']"
            ]
          },
          "metadata": {},
          "execution_count": 23
        }
      ]
    },
    {
      "cell_type": "code",
      "source": [
        "# aggregate by department\n",
        "dept_rdd = data_rdd.map(lambda x: (x[10],int(x[7])))\n",
        "aggr_rdd = dept_rdd.mapValues(lambda x: (x,1)).reduceByKey(lambda x,y: (x[0]+y[0],x[1]+y[1]))\n",
        "aggr_rdd = aggr_rdd.mapValues(lambda x: x[0]/x[1])\n",
        "aggr_rdd.collect()"
      ],
      "metadata": {
        "colab": {
          "base_uri": "https://localhost:8080/"
        },
        "id": "EbmVae5XeAmT",
        "outputId": "8495bf43-ab67-49d7-9adb-52f21b4b99aa"
      },
      "execution_count": 28,
      "outputs": [
        {
          "output_type": "execute_result",
          "data": {
            "text/plain": [
              "[('10', 4400.0),\n",
              " ('40', 6500.0),\n",
              " ('70', 10000.0),\n",
              " ('110', 10154.0),\n",
              " ('90', 19333.333333333332),\n",
              " ('50', 3721.7391304347825),\n",
              " ('20', 9500.0),\n",
              " ('60', 5760.0),\n",
              " ('100', 8601.333333333334),\n",
              " ('30', 4150.0)]"
            ]
          },
          "metadata": {},
          "execution_count": 28
        }
      ]
    },
    {
      "cell_type": "code",
      "source": [],
      "metadata": {
        "id": "26eXRZjIfEPk"
      },
      "execution_count": null,
      "outputs": []
    }
  ]
}